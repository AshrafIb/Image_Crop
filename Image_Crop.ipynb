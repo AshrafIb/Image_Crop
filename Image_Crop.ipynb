{
 "cells": [
  {
   "cell_type": "markdown",
   "metadata": {},
   "source": [
    "# Module einlesen "
   ]
  },
  {
   "cell_type": "code",
   "execution_count": 1,
   "metadata": {
    "ExecuteTime": {
     "end_time": "2020-05-04T09:21:08.088117Z",
     "start_time": "2020-05-04T09:21:06.150799Z"
    }
   },
   "outputs": [],
   "source": [
    "import pytesseract \n",
    "import matplotlib.pyplot as plt \n",
    "import cv2\n",
    "import math\n",
    "from PIL import Image\n",
    "from collections import Counter \n",
    "from skimage.color import rgb2lab,deltaE_cie76,rgb2hsv\n",
    "import os\n",
    "from PIL import Image\n",
    "import imutils\n",
    "from sklearn.cluster import KMeans\n",
    "import pandas as pd \n",
    "import numpy as np \n",
    "from pytesseract import Output\n",
    "import scipy\n",
    "from PIL import Image, ImageEnhance, ImageFilter\n",
    "from skimage.filters import (threshold_otsu, threshold_niblack,\n",
    "                             threshold_sauvola)\n",
    "from skimage.filters import try_all_threshold\n",
    "from skimage.filters import unsharp_mask\n",
    "\n",
    "%matplotlib inline\n",
    "# Pytesseract konfigurieren\n",
    "pytesseract.pytesseract.tesseract_cmd=r'C:\\Users\\ashrafib\\AppData\\Local\\Tesseract-OCR\\tesseract.exe'"
   ]
  },
  {
   "cell_type": "markdown",
   "metadata": {},
   "source": [
    "# Funktionen festlegen"
   ]
  },
  {
   "cell_type": "markdown",
   "metadata": {},
   "source": [
    "## Text lesen "
   ]
  },
  {
   "cell_type": "code",
   "execution_count": 2,
   "metadata": {
    "ExecuteTime": {
     "end_time": "2020-04-07T05:38:54.613074Z",
     "start_time": "2020-04-07T05:38:54.609112Z"
    }
   },
   "outputs": [],
   "source": [
    "def ocr_core(filename):\n",
    "    \"\"\"\n",
    "    \n",
    "    OCR - Preccessing definieren \n",
    "    \n",
    "    \"\"\"\n",
    "    text=pytesseract.image_to_string(Image.open(filename),lang='deu')\n",
    "    return text "
   ]
  },
  {
   "cell_type": "markdown",
   "metadata": {},
   "source": [
    "## RGB to HEX converter"
   ]
  },
  {
   "cell_type": "code",
   "execution_count": 3,
   "metadata": {
    "ExecuteTime": {
     "end_time": "2020-04-07T05:38:56.019756Z",
     "start_time": "2020-04-07T05:38:56.016287Z"
    }
   },
   "outputs": [],
   "source": [
    "def RGB2HEX(color):\n",
    "    return \"#{:02x}{:02x}{:02x}\".format(int(color[0]),int(color[1]),int(color[2]))"
   ]
  },
  {
   "cell_type": "markdown",
   "metadata": {},
   "source": [
    "## Extraktion der Hauptfarben "
   ]
  },
  {
   "cell_type": "code",
   "execution_count": 7,
   "metadata": {
    "ExecuteTime": {
     "end_time": "2020-05-04T09:56:01.198675Z",
     "start_time": "2020-05-04T09:56:01.191627Z"
    }
   },
   "outputs": [],
   "source": [
    "def get_colors(pic,number_of_colors,show_chart):\n",
    "    '''\n",
    "    \n",
    "    Input: \n",
    "    pic= bild \n",
    "    number_of_colors = Anzahl der Farben/ Nummer der Cluster bei kmeans \n",
    "    show_chart = bool zur Bilddarstellung\n",
    "    \n",
    "    '''\n",
    "    ## Modifikation des Bildes     \n",
    "    modified_image = cv2.resize(pic, (600, 400), interpolation = cv2.INTER_AREA)\n",
    "    modified_image = modified_image.reshape(modified_image.shape[0]*modified_image.shape[1], 3)\n",
    "    \n",
    "    ## Kmeans zur Extraktion der Farbcluster\n",
    "    clf = KMeans(n_clusters = number_of_colors)\n",
    "    labels = clf.fit_predict(modified_image)\n",
    "    \n",
    "    ## Counten der Labels/ Ordnen der Farben \n",
    "    counts = Counter(labels)   \n",
    "    center_colors = clf.cluster_centers_\n",
    "    ordered_colors = [center_colors[i] for i in counts.keys()]\n",
    "    hex_colors = [RGB2HEX(ordered_colors[i]) for i in counts.keys()]\n",
    "    # Optional \n",
    "    rgb_colors = [ordered_colors[i] for i in counts.keys()]\n",
    "\n",
    "    if (show_chart):\n",
    "        plt.figure(figsize = (8, 6))\n",
    "        plt.pie(counts.values(), labels = hex_colors, colors = hex_colors)\n",
    "\n",
    "    return rgb_colors"
   ]
  },
  {
   "cell_type": "markdown",
   "metadata": {},
   "source": [
    "# Main Funktion"
   ]
  },
  {
   "cell_type": "code",
   "execution_count": 12,
   "metadata": {
    "ExecuteTime": {
     "end_time": "2020-05-04T09:57:19.881335Z",
     "start_time": "2020-05-04T09:57:19.865527Z"
    }
   },
   "outputs": [],
   "source": [
    "def image_seg(): \n",
    "    '''\n",
    "    Input: None\n",
    "    Output: Bildsegmentierung von Pinke Post-ITs vorhanden\n",
    "    Skript und Images müssen im gleichen Ordner liegen. \n",
    "    '''   \n",
    "    folder=os.getcwd()+'\\\\'  \n",
    "    id_pic=0\n",
    "      \n",
    "    for filename in os.listdir(folder):\n",
    "        if filename.endswith(\".jpg\") or filename.endswith(\".png\"):\n",
    "             \n",
    "            id_pic += 1\n",
    "            ls=[]\n",
    "            ls.append(filename)\n",
    "\n",
    "             # Boundaries Gelb\n",
    "            lower_y = np.array([24,125,0])\n",
    "            upper_y = np.array([50,255,255])\n",
    "                \n",
    "            for f in ls:\n",
    "                img=cv2.imread(f)\n",
    "                rgb=cv2.cvtColor(img,cv2.COLOR_BGR2RGB)\n",
    "                \n",
    "                result = img.copy()\n",
    "                image = cv2.cvtColor(img, cv2.COLOR_BGR2HSV)\n",
    "                \n",
    "                # Reduktion des Bildes auf Farbspektrum\n",
    "                mask = cv2.inRange(image, lower_y, upper_y)\n",
    "                result = cv2.bitwise_and(result, result, mask=mask)\n",
    "                ims = cv2.resize(result, (960, 540))   \n",
    "                \n",
    "                cnts = cv2.findContours(mask.copy(), cv2.RETR_EXTERNAL,cv2.CHAIN_APPROX_SIMPLE)\n",
    "                cnts = imutils.grab_contours(cnts)\n",
    "                \n",
    "                #for c in cnts:\n",
    "                # compute the center of the contour\n",
    "                    #cv2.drawContours(result, [c], -1, (0, 255, 0), 2)\n",
    "                    #cv2.imwrite('Image_1.png',result)\n",
    "                \n",
    "                path = folder +'ImageFolder'\n",
    "                \n",
    "                idx =0 \n",
    "                for c in cnts:\n",
    "                    idx += 1\n",
    "                    x,y,w,h = cv2.boundingRect(c)\n",
    "                    roi=result[y:y+h,x:x+w]\n",
    "                    cv2.imwrite(os.path.join(path,str(id_pic)+'_'+str(idx) + '_f1.png'), roi) \n",
    "               \n",
    "                for root,_, files in os.walk('C:\\\\Users\\\\ashrafib\\\\Desktop\\\\Projekte\\\\20_ImageSeg\\\\ImageFolder\\\\'):\n",
    "                    for f in files: \n",
    "                        path = os.path.join(root, f)\n",
    "                        try:\n",
    "                            if os.path.getsize(path) < 100 * 1024:\n",
    "                                os.remove(path)\n",
    "                        except WindowsError:\n",
    "                            print(\"Error\" + path)\n",
    "                    count=len(files)\n",
    "                    print(count)"
   ]
  }
 ],
 "metadata": {
  "kernelspec": {
   "display_name": "Python 3",
   "language": "python",
   "name": "python3"
  },
  "language_info": {
   "codemirror_mode": {
    "name": "ipython",
    "version": 3
   },
   "file_extension": ".py",
   "mimetype": "text/x-python",
   "name": "python",
   "nbconvert_exporter": "python",
   "pygments_lexer": "ipython3",
   "version": "3.7.6"
  },
  "toc": {
   "base_numbering": 1,
   "nav_menu": {},
   "number_sections": true,
   "sideBar": true,
   "skip_h1_title": false,
   "title_cell": "Table of Contents",
   "title_sidebar": "Contents",
   "toc_cell": false,
   "toc_position": {
    "height": "calc(100% - 180px)",
    "left": "10px",
    "top": "150px",
    "width": "511.997px"
   },
   "toc_section_display": true,
   "toc_window_display": false
  },
  "varInspector": {
   "cols": {
    "lenName": 16,
    "lenType": 16,
    "lenVar": 40
   },
   "kernels_config": {
    "python": {
     "delete_cmd_postfix": "",
     "delete_cmd_prefix": "del ",
     "library": "var_list.py",
     "varRefreshCmd": "print(var_dic_list())"
    },
    "r": {
     "delete_cmd_postfix": ") ",
     "delete_cmd_prefix": "rm(",
     "library": "var_list.r",
     "varRefreshCmd": "cat(var_dic_list()) "
    }
   },
   "types_to_exclude": [
    "module",
    "function",
    "builtin_function_or_method",
    "instance",
    "_Feature"
   ],
   "window_display": false
  }
 },
 "nbformat": 4,
 "nbformat_minor": 4
}
